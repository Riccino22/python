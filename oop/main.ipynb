{
 "cells": [
  {
   "cell_type": "code",
   "execution_count": 9,
   "metadata": {},
   "outputs": [
    {
     "name": "stdout",
     "output_type": "stream",
     "text": [
      "Name:  John\n",
      "Health:  100\n",
      "Damage:  24\n"
     ]
    }
   ],
   "source": [
    "class Character:\n",
    "    def __init__(self, name, damage, health=100):\n",
    "        self.name = name\n",
    "        self.health = health\n",
    "        self.damage = damage\n",
    "        \n",
    "        if self.health < 0:\n",
    "            raise Exception(\"Health can not be lower than 0\")\n",
    "    \n",
    "    def show_attr(self):\n",
    "        print(\"Name: \", self.name)\n",
    "        print(\"Health: \", self.health)\n",
    "        print(\"Damage: \", self.damage)\n",
    "        \n",
    "    def is_alive(self):\n",
    "        return self.health > 0\n",
    "    \n",
    "    def death(self):\n",
    "        self.health = 0\n",
    "        print(f\"{self.name} has died.\")\n",
    "        \n",
    "    def attack(self):\n",
    "        return self.damage\n",
    "    \n",
    "character = Character(\"John\", 24)\n",
    "character.show_attr()"
   ]
  },
  {
   "cell_type": "code",
   "execution_count": null,
   "metadata": {},
   "outputs": [],
   "source": []
  }
 ],
 "metadata": {
  "kernelspec": {
   "display_name": "venv",
   "language": "python",
   "name": "python3"
  },
  "language_info": {
   "codemirror_mode": {
    "name": "ipython",
    "version": 3
   },
   "file_extension": ".py",
   "mimetype": "text/x-python",
   "name": "python",
   "nbconvert_exporter": "python",
   "pygments_lexer": "ipython3",
   "version": "3.12.3"
  }
 },
 "nbformat": 4,
 "nbformat_minor": 2
}
